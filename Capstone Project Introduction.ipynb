{
 "cells": [
  {
   "cell_type": "markdown",
   "metadata": {},
   "source": [
    "## Coursera Capstone: Opening a Specialty Bakery in the city of Toronto, Canada"
   ]
  },
  {
   "cell_type": "markdown",
   "metadata": {},
   "source": [
    "## Introduction\n",
    "\n",
    "For the Capstone project, I am reviewing the scenario in which an enterpreneur wants to explore the possibility of opening a new organic bakery in the city of Toronto, Canada. The bakery will specialize in gluten, wheat and dairy free products. In the last years, there has been a noticeable improvement in the diagnosis of food allergies. Previously, what was an unknown problem which affected many people has become in a manageable ailment which is easily treated through modification of diets."
   ]
  },
  {
   "cell_type": "markdown",
   "metadata": {},
   "source": [
    "## Business Problem\n",
    "\n",
    "The new bakery aims to offer products targeted to people who suffer from food allergies. The range of products offered will be spelt breads, muffins and pastries. Spelt will be used since there are less people who are allergic to this grain. A range of yeast-free breads, dairy-free muffins and pastries, as well as egg-free products will be offered.\n",
    "\n",
    "The new specialty bakery will focus on two customer segments. One is the Allergy segment and the second is the Dieter segment, consisting of people who are making modifications in their diet based on a desire to lose weight."
   ]
  },
  {
   "cell_type": "markdown",
   "metadata": {},
   "source": [
    "## Data necessary for the project\n",
    "\n",
    "The data necessary for the project will be collected from the following sources:\n",
    "\n",
    "#### Neighborhood data from Toronto\n",
    "\n",
    "This will be acquired from a list of neighborhoods in Wikipedia page: \"List of postal codes of Canada: M\" in the webpage https://en.wikipedia.org/wiki/List_of_postal_codes_of_Canada:_M\n",
    "\n",
    "Description: List of neighborhoods and postal codes of Toronto\n",
    "\n",
    "\n",
    "#### Geographical coordinates\n",
    "\n",
    "The data set http://cocl.us/Geospatial_data will be used to acquire the coordinates (latitude and longitude) corresponding to the different postal codes.\n",
    "\n",
    "Description: The data base provides the latitude and longitude of a given location based on the postal code.\n",
    "\n",
    "\n",
    "#### Foursquare Venues data\n",
    "\n",
    "API call to Foursquare and acquisition of .json data related to the venues located at a given radius around each neighborhood.\n",
    "\n",
    "Description: It provides data about venues around a given neighborhood. Venues are catergorized and information is provided about ratings, reviews and tips given by users of Foursquare.\n"
   ]
  },
  {
   "cell_type": "code",
   "execution_count": null,
   "metadata": {},
   "outputs": [],
   "source": []
  }
 ],
 "metadata": {
  "kernelspec": {
   "display_name": "Python 3",
   "language": "python",
   "name": "python3"
  },
  "language_info": {
   "codemirror_mode": {
    "name": "ipython",
    "version": 3
   },
   "file_extension": ".py",
   "mimetype": "text/x-python",
   "name": "python",
   "nbconvert_exporter": "python",
   "pygments_lexer": "ipython3",
   "version": "3.7.3"
  }
 },
 "nbformat": 4,
 "nbformat_minor": 2
}
